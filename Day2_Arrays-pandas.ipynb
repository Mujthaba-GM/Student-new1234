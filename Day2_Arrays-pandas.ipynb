{
  "nbformat": 4,
  "nbformat_minor": 0,
  "metadata": {
    "colab": {
      "provenance": [],
      "authorship_tag": "ABX9TyNmWtXYlfN6xY8nxSs4xz59",
      "include_colab_link": true
    },
    "kernelspec": {
      "name": "python3",
      "display_name": "Python 3"
    },
    "language_info": {
      "name": "python"
    }
  },
  "cells": [
    {
      "cell_type": "markdown",
      "metadata": {
        "id": "view-in-github",
        "colab_type": "text"
      },
      "source": [
        "<a href=\"https://colab.research.google.com/github/Mujthaba-GM/Student-new1234/blob/main/Day2_Arrays-pandas.ipynb\" target=\"_parent\"><img src=\"https://colab.research.google.com/assets/colab-badge.svg\" alt=\"Open In Colab\"/></a>"
      ]
    },
    {
      "cell_type": "code",
      "execution_count": 37,
      "metadata": {
        "colab": {
          "base_uri": "https://localhost:8080/"
        },
        "id": "AeUuMOO9k607",
        "outputId": "a7f475e4-3c99-4a11-b944-f583a2c29056"
      },
      "outputs": [
        {
          "output_type": "stream",
          "name": "stdout",
          "text": [
            "Array 1: [1 2 3 4 5]\n",
            "Array 1 slicing  [2 3]\n",
            "Add of two arrays [11 22 33 44 55]\n",
            "Sub of two arrays [ -9 -18 -27 -36 -45]\n",
            "Data type of arr1 int64\n",
            "Size of arr2 5\n",
            "Reshape of array 1 [[1]\n",
            " [2]\n",
            " [3]\n",
            " [4]\n",
            " [5]]\n",
            "sort of array 3 elements [ 1  2  3  4 10 15 20]\n",
            "Mean of array 3 is  7.857142857142857\n",
            "Max of array 1 5\n",
            "max of array 3 is  20\n",
            "Min of array 3 is 1\n",
            "Argmax of array3 is 6\n",
            "Argmin of array 3 is  0\n",
            "Unique in array1 is  [1 2 3 4 5]\n",
            "Creating separating copy of array 3 [ 1  2  3  4 10 15 20]\n",
            "Product of array1 120\n",
            "Product of array2 12000000\n",
            "prod of two arrays arr1 and arr2 1440000000\n",
            "Sum of arra1 15\n",
            "Horizontal Stack:\n",
            " [ 1  2  3  4  5 10 20 30 40 50]\n",
            "Vertical Stack:\n",
            " [[ 1  2  3  4  5]\n",
            " [10 20 30 40 50]]\n"
          ]
        }
      ],
      "source": [
        "#Single Diamensional arrays using numpy\n",
        "# functions size, dtype, reshape, sort, mean, max, min, argmin, agrmax, unique, copy\n",
        "import numpy as np\n",
        "# Create a single-dimensional array\n",
        "arr1 = np.array([1, 2, 3, 4, 5])  # Array 1 initialization\n",
        "arr2=np.array([10,20,30,40,50])\n",
        "print(\"Array 1:\", arr1)  # Displaying Array 1\n",
        "print(\"Array 1 slicing \",arr1[1:3])\n",
        "print(\"Add of two arrays\",arr1+arr2)\n",
        "print(\"Sub of two arrays\",arr1-arr2)\n",
        "print(\"Data type of arr1\",arr1.dtype)\n",
        "print(\"Size of arr2\",arr1.size)\n",
        "print(\"Reshape of array 1\",arr1.reshape(5,1))\n",
        "arr3=np.array([20,10,2,3,4,15,1])\n",
        "arr3.sort()\n",
        "print(\"sort of array 3 elements\",arr3)\n",
        "print(\"Mean of array 3 is \",arr3.mean())\n",
        "print(\"Max of array 1\",arr1.max())\n",
        "print(\"max of array 3 is \",arr3.max())\n",
        "print(\"Min of array 3 is\",arr3.min())\n",
        "index=np.argmax(arr3)\n",
        "print(\"Argmax of array3 is\",index)\n",
        "index1=np.argmin(arr3)\n",
        "print(\"Argmin of array 3 is \",index1)\n",
        "print(\"Unique in array1 is \",np.unique(arr1))\n",
        "arr4=arr3.copy()\n",
        "print(\"Creating separating copy of array 3\",arr4)\n",
        "print(\"Product of array1\", np.prod(arr1))\n",
        "print(\"Product of array2\",np.prod(arr2))\n",
        "print(\"prod of two arrays arr1 and arr2\",np.prod(arr1)*np.prod(arr2))\n",
        "print(\"Sum of arra1\",np.sum(arr1))\n",
        "print(\"Horizontal Stack:\\n\", np.hstack((arr1, arr2)))\n",
        "print(\"Vertical Stack:\\n\", np.vstack((arr1, arr2)))\n",
        "\n",
        "\n",
        "\n"
      ]
    },
    {
      "cell_type": "code",
      "source": [
        "# Two-Dimensional arrays using NumPy\n",
        "# Functions: size, dtype, reshape, sort, mean, max, min, argmin, argmax, unique, copy\n",
        "\n",
        "import numpy as np\n",
        "\n",
        "# Create two-dimensional arrays (2 rows × 5 columns)\n",
        "arr1 = np.array([[1, 2, 3, 4, 5]])\n",
        "arr2 = np.array([[10, 20, 30, 40, 50]])\n",
        "\n",
        "print(\"Array 1:\\n\", arr1)  # Displaying Array 1\n",
        "print(\"Array 1 slicing:\\n\", arr1[:, 1:3])  # Slice columns 1 to 2 from row 0\n",
        "\n",
        "# Array addition and subtraction (element-wise)\n",
        "print(\"Add of two arrays:\\n\", arr1 + arr2)\n",
        "print(\"Sub of two arrays:\\n\", arr1 - arr2)\n",
        "\n",
        "# Data type and size\n",
        "print(\"Data type of arr1:\", arr1.dtype)\n",
        "print(\"Size of arr1:\", arr1.size)\n",
        "\n",
        "# Reshape example (reshaping arr1 into 5 rows and 1 column)\n",
        "print(\"Reshape of array 1 to 5x1:\\n\", arr1.reshape(5, 1))\n",
        "\n",
        "# Another array for sort and statistics\n",
        "arr3 = np.array([[20, 10, 2, 3, 4, 15, 1]])\n",
        "arr3.sort()\n",
        "print(\"Sorted array 3 elements:\\n\", arr3)\n",
        "\n",
        "# Statistics\n",
        "print(\"Mean of array 3:\", arr3.mean())\n",
        "print(\"Max of array 1:\", arr1.max())\n",
        "print(\"Max of array 3:\", arr3.max())\n",
        "print(\"Min of array 3:\", arr3.min())\n",
        "\n",
        "# Index of max and min values\n",
        "print(\"Argmax of array 3:\", np.argmax(arr3))\n",
        "print(\"Argmin of array 3:\", np.argmin(arr3))\n",
        "\n",
        "# Unique values\n",
        "print(\"Unique elements in array 1:\", np.unique(arr1))\n",
        "\n",
        "# Copy of array\n",
        "arr4 = arr3.copy()\n",
        "print(\"Creating separate copy of array 3:\\n\", arr4)\n",
        "\n",
        "# Product and sum\n",
        "print(\"Product of array 1:\", np.prod(arr1))\n",
        "print(\"Product of array 2:\", np.prod(arr2))\n",
        "print(\"Product of both arrays (arr1 * arr2):\", np.prod(arr1) * np.prod(arr2))\n",
        "print(\"Sum of array 1:\", np.sum(arr1))\n",
        "\n",
        "# Stacking arrays\n",
        "print(\"Horizontal Stack:\\n\", np.hstack((arr1, arr2)))\n",
        "print(\"Vertical Stack:\\n\", np.vstack((arr1, arr2)))\n"
      ],
      "metadata": {
        "colab": {
          "base_uri": "https://localhost:8080/"
        },
        "id": "fFRzsmqRtauI",
        "outputId": "68e7d009-a84f-4266-cd89-c0cf2e67e58b"
      },
      "execution_count": 38,
      "outputs": [
        {
          "output_type": "stream",
          "name": "stdout",
          "text": [
            "Array 1:\n",
            " [[1 2 3 4 5]]\n",
            "Array 1 slicing:\n",
            " [[2 3]]\n",
            "Add of two arrays:\n",
            " [[11 22 33 44 55]]\n",
            "Sub of two arrays:\n",
            " [[ -9 -18 -27 -36 -45]]\n",
            "Data type of arr1: int64\n",
            "Size of arr1: 5\n",
            "Reshape of array 1 to 5x1:\n",
            " [[1]\n",
            " [2]\n",
            " [3]\n",
            " [4]\n",
            " [5]]\n",
            "Sorted array 3 elements:\n",
            " [[ 1  2  3  4 10 15 20]]\n",
            "Mean of array 3: 7.857142857142857\n",
            "Max of array 1: 5\n",
            "Max of array 3: 20\n",
            "Min of array 3: 1\n",
            "Argmax of array 3: 6\n",
            "Argmin of array 3: 0\n",
            "Unique elements in array 1: [1 2 3 4 5]\n",
            "Creating separate copy of array 3:\n",
            " [[ 1  2  3  4 10 15 20]]\n",
            "Product of array 1: 120\n",
            "Product of array 2: 12000000\n",
            "Product of both arrays (arr1 * arr2): 1440000000\n",
            "Sum of array 1: 15\n",
            "Horizontal Stack:\n",
            " [[ 1  2  3  4  5 10 20 30 40 50]]\n",
            "Vertical Stack:\n",
            " [[ 1  2  3  4  5]\n",
            " [10 20 30 40 50]]\n"
          ]
        }
      ]
    },
    {
      "cell_type": "code",
      "source": [
        "# Pandas and its operations\n",
        "import pandas as pd\n",
        "\n",
        "# Create data using dictionary\n",
        "data = {\n",
        "    'name': ['Tom', 'Jerry', 'Anna'],\n",
        "    'age': [20, 21, 19],\n",
        "    'marks': [85, 90, 88]\n",
        "}\n",
        "\n",
        "# Create DataFrame\n",
        "df = pd.DataFrame(data)\n",
        "\n",
        "# Print the whole DataFrame\n",
        "print(\"Student Data:\\n\", df)\n",
        "\n",
        "# Print first row\n",
        "print(\"\\nFirst row:\\n\", df.head(1))\n",
        "\n",
        "# Print only names\n",
        "print(\"\\nNames:\\n\", df['name'])\n",
        "\n",
        "# Add 5 bonus marks to each student\n",
        "df['total'] = df['marks'] + 5\n",
        "print(\"\\nAfter adding bonus marks:\\n\", df)\n",
        "\n",
        "# Sort by marks\n",
        "df_sorted = df.sort_values(by='marks')\n",
        "print(\"\\nSorted by marks:\\n\", df_sorted)\n",
        "\n",
        "# Average marks\n",
        "print(\"\\nAverage marks:\", df['marks'].mean())\n"
      ],
      "metadata": {
        "colab": {
          "base_uri": "https://localhost:8080/"
        },
        "id": "D3oRJK4nlhyQ",
        "outputId": "739fc15f-bf66-473f-f774-989d2c2aba7e"
      },
      "execution_count": 39,
      "outputs": [
        {
          "output_type": "stream",
          "name": "stdout",
          "text": [
            "Student Data:\n",
            "     name  age  marks\n",
            "0    Tom   20     85\n",
            "1  Jerry   21     90\n",
            "2   Anna   19     88\n",
            "\n",
            "First row:\n",
            "   name  age  marks\n",
            "0  Tom   20     85\n",
            "\n",
            "Names:\n",
            " 0      Tom\n",
            "1    Jerry\n",
            "2     Anna\n",
            "Name: name, dtype: object\n",
            "\n",
            "After adding bonus marks:\n",
            "     name  age  marks  total\n",
            "0    Tom   20     85     90\n",
            "1  Jerry   21     90     95\n",
            "2   Anna   19     88     93\n",
            "\n",
            "Sorted by marks:\n",
            "     name  age  marks  total\n",
            "0    Tom   20     85     90\n",
            "2   Anna   19     88     93\n",
            "1  Jerry   21     90     95\n",
            "\n",
            "Average marks: 87.66666666666667\n"
          ]
        }
      ]
    },
    {
      "cell_type": "code",
      "source": [
        "import pandas as pd\n",
        "import os\n",
        "\n",
        "# 1. Create and write to a text file\n",
        "text_path = r\"D:\\abcd.txt\"\n",
        "with open(text_path, \"w\") as f:\n",
        "    f.write(\"I love India\")\n",
        "\n",
        "# 2. Create DataFrame\n",
        "data = {\n",
        "    'slno': [1, 2, 3],\n",
        "    'name': ['Tom', 'Jerry', 'Anna'],\n",
        "    'marks': [85, 90, 88]\n",
        "}\n",
        "df = pd.DataFrame(data)\n",
        "\n",
        "# 3. Save DataFrame to CSV\n",
        "csv_path = r\"D:\\datanew.csv\"\n",
        "df.to_csv(csv_path, index=False)\n",
        "\n",
        "# 4. Show outputs in console\n",
        "print(\"✅ Text file content:\")\n",
        "with open(text_path, \"r\") as f:\n",
        "    print(f.read())\n",
        "\n",
        "print(\"\\n✅ DataFrame:\")\n",
        "print(df)\n",
        "\n",
        "print(f\"\\n✅ CSV file 'datanew.csv' saved successfully at: {csv_path}\")"
      ],
      "metadata": {
        "colab": {
          "base_uri": "https://localhost:8080/"
        },
        "id": "JH2Cdhk8vVl9",
        "outputId": "6ff60b9a-02ca-4181-8195-c72dfa4039d1"
      },
      "execution_count": 1,
      "outputs": [
        {
          "output_type": "stream",
          "name": "stdout",
          "text": [
            "✅ Text file content:\n",
            "I love India\n",
            "\n",
            "✅ DataFrame:\n",
            "   slno   name  marks\n",
            "0     1    Tom     85\n",
            "1     2  Jerry     90\n",
            "2     3   Anna     88\n",
            "\n",
            "✅ CSV file 'datanew.csv' saved successfully at: D:\\datanew.csv\n"
          ]
        }
      ]
    },
    {
      "cell_type": "code",
      "source": [],
      "metadata": {
        "colab": {
          "base_uri": "https://localhost:8080/"
        },
        "id": "AIXDY8P5xyJ6",
        "outputId": "0973953d-e32f-4edc-e9c1-1e8f30acaee2"
      },
      "execution_count": 46,
      "outputs": [
        {
          "output_type": "stream",
          "name": "stdout",
          "text": [
            "Content of abcd.txt:\n",
            "I love India\n",
            "\n",
            "Content of data.txt:\n",
            "I love India\n"
          ]
        }
      ]
    },
    {
      "cell_type": "code",
      "source": [],
      "metadata": {
        "id": "6Y3LR-_yvsuY"
      },
      "execution_count": null,
      "outputs": []
    }
  ]
}