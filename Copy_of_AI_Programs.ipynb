{
  "nbformat": 4,
  "nbformat_minor": 0,
  "metadata": {
    "colab": {
      "provenance": [],
      "authorship_tag": "ABX9TyNSKoGn4RfxGbh0LH+lCWUM",
      "include_colab_link": true
    },
    "kernelspec": {
      "name": "python3",
      "display_name": "Python 3"
    },
    "language_info": {
      "name": "python"
    }
  },
  "cells": [
    {
      "cell_type": "markdown",
      "metadata": {
        "id": "view-in-github",
        "colab_type": "text"
      },
      "source": [
        "<a href=\"https://colab.research.google.com/github/Mujthaba-GM/Student-new1234/blob/main/Copy_of_AI_Programs.ipynb\" target=\"_parent\"><img src=\"https://colab.research.google.com/assets/colab-badge.svg\" alt=\"Open In Colab\"/></a>"
      ]
    },
    {
      "cell_type": "code",
      "execution_count": null,
      "metadata": {
        "colab": {
          "base_uri": "https://localhost:8080/"
        },
        "id": "wkm9thqusJpF",
        "outputId": "4d48890b-e589-4323-d730-29227e30d935"
      },
      "outputs": [
        {
          "output_type": "stream",
          "name": "stdout",
          "text": [
            "Diagnosis: Flu\n"
          ]
        }
      ],
      "source": [
        "#Rule-Based Expert System (Forward Chaining)\n",
        "def diagnose(symptoms):\n",
        "    if 'fever' in symptoms and 'cough' in symptoms:\n",
        "        return \"Flu\"\n",
        "    elif 'headache' in symptoms and 'blurred vision' in symptoms:\n",
        "        return \"Migraine\"\n",
        "    else:\n",
        "        return \"Unknown\"\n",
        "\n",
        "symptoms = ['fever', 'cough']\n",
        "print(\"Diagnosis:\", diagnose(symptoms))\n",
        "\n"
      ]
    },
    {
      "cell_type": "code",
      "source": [
        "#COVID detection\n",
        "def covid_checker(symptoms):\n",
        "    if 'fever' in symptoms and 'dry cough' in symptoms and 'loss of smell' in symptoms:\n",
        "        return \"Possible COVID-19\"\n",
        "    else:\n",
        "        return \"No COVID Symptoms Detected\"\n",
        "\n",
        "symptoms = ['fever', 'dry cough', 'loss of smell']\n",
        "print(\"Diagnosis:\", covid_checker(symptoms))\n",
        "\n"
      ],
      "metadata": {
        "colab": {
          "base_uri": "https://localhost:8080/"
        },
        "id": "zD-IJ-mXw2ci",
        "outputId": "641fe07c-9ad2-4519-95d7-f57da9299982"
      },
      "execution_count": null,
      "outputs": [
        {
          "output_type": "stream",
          "name": "stdout",
          "text": [
            "Diagnosis: Possible COVID-19\n"
          ]
        }
      ]
    },
    {
      "cell_type": "code",
      "source": [],
      "metadata": {
        "id": "6FNEYPqHs8Ss"
      },
      "execution_count": null,
      "outputs": []
    },
    {
      "cell_type": "code",
      "source": [
        "#Simple reflex agent (no memory acts  as the situations comes )\n",
        "def vacuum_agent(location, status):\n",
        "    if status == \"dirty\":\n",
        "        return \"Clean\"\n",
        "    elif location == \"A\":\n",
        "        return \"Move Right\"\n",
        "    else:\n",
        "        return \"Move Left\"\n",
        "\n",
        "print(vacuum_agent(\"A\", \"dirty\"))\n"
      ],
      "metadata": {
        "colab": {
          "base_uri": "https://localhost:8080/"
        },
        "id": "oZ7H_EdfssXK",
        "outputId": "3c313e81-bdd3-4880-de2f-fd5fffa4844f"
      },
      "execution_count": null,
      "outputs": [
        {
          "output_type": "stream",
          "name": "stdout",
          "text": [
            "Clean\n"
          ]
        }
      ]
    },
    {
      "cell_type": "code",
      "source": [
        "# Model based agent (acts ) Keeps memory (internal model) of past states.\n",
        "def model_based_reflex_agent(location, status, model):\n",
        "    model[location] = status  # Update internal model\n",
        "    if model[location] == \"dirty\":\n",
        "        return \"Clean\"\n",
        "    elif location == \"A\":\n",
        "        return \"Move Right\"\n",
        "    else:\n",
        "        return \"Move Left\"\n",
        "\n",
        "# Internal model of environment\n",
        "model = {\"A\": \"clean\", \"B\": \"dirty\"}\n",
        "\n",
        "# Example\n",
        "print(\"Model-Based Reflex:\", model_based_reflex_agent(\"A\", \"dirty\", model))\n"
      ],
      "metadata": {
        "colab": {
          "base_uri": "https://localhost:8080/"
        },
        "id": "WdSKJHNyts6k",
        "outputId": "4c413d63-6810-4133-ea60-c1fda5362fd0"
      },
      "execution_count": null,
      "outputs": [
        {
          "output_type": "stream",
          "name": "stdout",
          "text": [
            "Model-Based Reflex: Clean\n"
          ]
        }
      ]
    },
    {
      "cell_type": "code",
      "source": [
        "#Goal based agents (e.g., clean all rooms).\n",
        "def goal_based_agent(location, status, goal=\"all_clean\"):\n",
        "    if goal == \"all_clean\":\n",
        "        if status == \"dirty\":\n",
        "            return \"Clean\"\n",
        "        elif location == \"A\":\n",
        "            return \"Move Right\"\n",
        "        else:\n",
        "            return \"Move Left\"\n",
        "    else:\n",
        "        return \"Do Nothing\"\n",
        "\n",
        "# Example\n",
        "print(\"Goal-Based:\", goal_based_agent(\"B\", \"clean\", goal=\"all_clean\"))\n"
      ],
      "metadata": {
        "colab": {
          "base_uri": "https://localhost:8080/"
        },
        "id": "BgqjVP3MuCCJ",
        "outputId": "1b38a9f2-029e-40a0-ca9b-c6d59e577c8d"
      },
      "execution_count": null,
      "outputs": [
        {
          "output_type": "stream",
          "name": "stdout",
          "text": [
            "Goal-Based: Move Left\n"
          ]
        }
      ]
    },
    {
      "cell_type": "code",
      "source": [
        "#1. Simple Reflex Agent automatic door opener\n",
        "def automatic_door(motion):\n",
        "    if motion:\n",
        "        return \"Open Door\"\n",
        "    else:\n",
        "        return \"Keep Closed\"\n",
        "motion=True\n",
        "print(automatic_door(motion))\n",
        "\n",
        "\n",
        "\n",
        "\n"
      ],
      "metadata": {
        "colab": {
          "base_uri": "https://localhost:8080/"
        },
        "id": "qt9G_SeZuUdY",
        "outputId": "2bb2ee93-7dfc-460e-f250-9567d1087f98"
      },
      "execution_count": null,
      "outputs": [
        {
          "output_type": "stream",
          "name": "stdout",
          "text": [
            "Open Door\n"
          ]
        }
      ]
    },
    {
      "cell_type": "code",
      "source": [
        "#Room heat controllor\n",
        "def heater_controller(temp):\n",
        "    if temp < 20:\n",
        "        return \"Turn Heater ON\"\n",
        "    else:\n",
        "        return \"Turn Heater OFF\"\n",
        "temp=15\n",
        "print(heater_controller(temp))\n"
      ],
      "metadata": {
        "colab": {
          "base_uri": "https://localhost:8080/"
        },
        "id": "P8nhtrIvvzqn",
        "outputId": "24ea122e-7959-404a-a3c8-c5dd8a4907d0"
      },
      "execution_count": null,
      "outputs": [
        {
          "output_type": "stream",
          "name": "stdout",
          "text": [
            "Turn Heater ON\n"
          ]
        }
      ]
    },
    {
      "cell_type": "code",
      "source": [
        "#Traffic Light Controller\n",
        "def traffic_light(sensor_input):\n",
        "    if sensor_input == \"vehicle_detected\":\n",
        "        return \"Turn Green\"\n",
        "    else:\n",
        "        return \"Stay Red\"\n",
        "sensor=\"vehicle_deteccted\"\n",
        "print(traffic_light(sensor))\n",
        "\n"
      ],
      "metadata": {
        "colab": {
          "base_uri": "https://localhost:8080/"
        },
        "id": "HrIWZz2qwY6M",
        "outputId": "efa2a230-9769-4256-ba94-08a124e01cc8"
      },
      "execution_count": null,
      "outputs": [
        {
          "output_type": "stream",
          "name": "stdout",
          "text": [
            "Stay Red\n"
          ]
        }
      ]
    },
    {
      "cell_type": "code",
      "source": [
        "#BFS\n",
        "from collections import deque\n",
        "\n",
        "def bfs(graph, start):\n",
        "    visited = set()\n",
        "    queue = deque([start])\n",
        "\n",
        "    while queue:\n",
        "        node = queue.popleft()\n",
        "        if node not in visited:\n",
        "            print(node, end=\" \")\n",
        "            visited.add(node)\n",
        "            queue.extend(graph[node])\n",
        "\n",
        "graph = {\n",
        "    'A': ['B', 'C'],\n",
        "    'B': ['D', 'E'],\n",
        "    'C': ['F'],\n",
        "    'D': [], 'E': [], 'F': []\n",
        "}\n",
        "\n",
        "bfs(graph, 'A')\n",
        "\n"
      ],
      "metadata": {
        "colab": {
          "base_uri": "https://localhost:8080/"
        },
        "id": "ZEaP0YlIs-Fs",
        "outputId": "403ce134-4d25-4e1b-9ddb-45c97081df51"
      },
      "execution_count": null,
      "outputs": [
        {
          "output_type": "stream",
          "name": "stdout",
          "text": [
            "A B C D E F "
          ]
        }
      ]
    },
    {
      "cell_type": "code",
      "source": [
        "#Hand drier washing\n",
        "def dryer(motion):\n",
        "    if motion:\n",
        "        return \"Start Dryer\"\n",
        "    else:\n",
        "        return \"Do Nothing\"\n",
        "motion=True\n",
        "print(dryer(motion))"
      ],
      "metadata": {
        "colab": {
          "base_uri": "https://localhost:8080/"
        },
        "id": "8yozn-9cwHoq",
        "outputId": "bedb1399-5049-4bed-e2fb-c67b96c71eee"
      },
      "execution_count": null,
      "outputs": [
        {
          "output_type": "stream",
          "name": "stdout",
          "text": [
            "Start Dryer\n"
          ]
        }
      ]
    },
    {
      "cell_type": "code",
      "source": [
        "#DFS\n",
        "def dfs(graph, node, visited=None):\n",
        "    if visited is None:\n",
        "        visited = set()\n",
        "    if node not in visited:\n",
        "        print(node, end=\" \")\n",
        "        visited.add(node)\n",
        "        for neighbor in graph[node]:\n",
        "            dfs(graph, neighbor, visited)\n",
        "\n",
        "graph = {\n",
        "    'A': ['B', 'C'],\n",
        "    'B': ['D', 'E'],\n",
        "    'C': ['F'],\n",
        "    'D': [], 'E': [], 'F': []\n",
        "}\n",
        "\n",
        "dfs(graph, 'A')\n",
        "\n"
      ],
      "metadata": {
        "id": "_-QtSQDXtDa9"
      },
      "execution_count": null,
      "outputs": []
    }
  ]
}