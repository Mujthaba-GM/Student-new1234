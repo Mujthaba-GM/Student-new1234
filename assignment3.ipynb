{
  "nbformat": 4,
  "nbformat_minor": 0,
  "metadata": {
    "colab": {
      "provenance": [],
      "authorship_tag": "ABX9TyM0UQiboXGvaHbKPnnZaCAV",
      "include_colab_link": true
    },
    "kernelspec": {
      "name": "python3",
      "display_name": "Python 3"
    },
    "language_info": {
      "name": "python"
    }
  },
  "cells": [
    {
      "cell_type": "markdown",
      "metadata": {
        "id": "view-in-github",
        "colab_type": "text"
      },
      "source": [
        "<a href=\"https://colab.research.google.com/github/Mujthaba-GM/Student-new1234/blob/main/assignment3.ipynb\" target=\"_parent\"><img src=\"https://colab.research.google.com/assets/colab-badge.svg\" alt=\"Open In Colab\"/></a>"
      ]
    },
    {
      "cell_type": "code",
      "execution_count": 2,
      "metadata": {
        "colab": {
          "base_uri": "https://localhost:8080/"
        },
        "id": "W4av2-6JO6v3",
        "outputId": "d1e34e7e-5d34-479c-8cb5-a514408b79ed"
      },
      "outputs": [
        {
          "output_type": "stream",
          "name": "stdout",
          "text": [
            "Enter study hours: 12\n",
            "Enter attendance percentage: 58\n",
            "Prediction: ❌ Fail\n"
          ]
        }
      ],
      "source": [
        "import pandas as pd\n",
        "from sklearn.linear_model import LogisticRegression\n",
        "\n",
        "# Step 1: Create the dataset\n",
        "data = {\n",
        "    'Study_Hours': [2, 5, 1, 7, 4, 3, 6, 2],\n",
        "    'Attendance':  [60, 80, 55, 90, 70, 65, 85, 50],\n",
        "    'Result':      [0, 1, 0, 1, 1, 0, 1, 0]\n",
        "}\n",
        "\n",
        "df = pd.DataFrame(data)\n",
        "\n",
        "# Step 2: Split into features (X) and target (y)\n",
        "X = df[['Study_Hours', 'Attendance']]\n",
        "y = df['Result']\n",
        "\n",
        "# Step 3: Train the logistic regression model\n",
        "model = LogisticRegression()\n",
        "model.fit(X, y)\n",
        "\n",
        "# Step 4: Take user input\n",
        "s = int(input(\"Enter study hours: \"))\n",
        "a = int(input(\"Enter attendance percentage: \"))\n",
        "\n",
        "# Step 5: Predict\n",
        "test_input = pd.DataFrame([[s, a]], columns=['Study_Hours', 'Attendance'])\n",
        "result = model.predict(test_input)[0]\n",
        "\n",
        "# Step 6: Display result\n",
        "print(\"Prediction:\", \"✅ Pass\" if result == 1 else \"❌ Fail\")\n"
      ]
    },
    {
      "cell_type": "code",
      "source": [
        "import pandas as pd\n",
        "import numpy as np\n",
        "\n",
        "# Step 1: Create the dataset manually\n",
        "data = {\n",
        "    'House_ID': [101, 102, 103, 104, 105, 105, 106, 107],\n",
        "    'Location': ['Bangalore', 'Mumbai', 'bangalore', 'Delhi', 'Mumbai', 'Mumbai', 'Hyderabad', 'Chennai'],\n",
        "    'Area_sqft': [1200, 900, 1100, np.nan, 1500, 1500, 1000, 850],\n",
        "    'Bedrooms': [3, 2, 3, 2, 4, 4, 3, 'two'],\n",
        "    'Price_Lakhs': [85, np.nan, 80, 70, 120, 120, 75, 60],\n",
        "    'Status': ['Sold', 'Available', 'SOLD', 'available', 'Sold', 'Sold', 'SOLD', 'Available'],\n",
        "    'Owner_Name': ['Ramesh Kumar', 'Sita Devi', 'John Smith', 'Alice Johnson', 'Ravi Patel', 'Ravi Patel', 'Meera Nair', 'David Roy']\n",
        "}\n",
        "\n",
        "df = pd.DataFrame(data)\n",
        "\n",
        "# ✅ Step 2: Handle missing values\n",
        "df['Area_sqft'] = df['Area_sqft'].fillna(df['Area_sqft'].mean())\n",
        "df['Price_Lakhs'] = df['Price_Lakhs'].fillna(df['Price_Lakhs'].mean())\n",
        "\n",
        "# ✅ Step 3: Remove duplicate rows\n",
        "df = df.drop_duplicates()\n",
        "\n",
        "# ✅ Step 4: Fix inconsistent text (case and spelling)\n",
        "df['Location'] = df['Location'].str.title()     # 'bangalore' → 'Bangalore'\n",
        "df['Status'] = df['Status'].str.lower()         # 'SOLD' → 'sold'\n",
        "\n",
        "# ✅ Step 5: Convert 'Bedrooms' column to numeric (handle 'two')\n",
        "df['Bedrooms'] = df['Bedrooms'].replace('two', 2)\n",
        "df['Bedrooms'] = pd.to_numeric(df['Bedrooms'], errors='coerce')  # if any conversion fails, make it NaN\n",
        "\n",
        "# (Optional) fill any NaN in Bedrooms if left\n",
        "df['Bedrooms'] = df['Bedrooms'].fillna(df['Bedrooms'].mode()[0]).astype(int)\n",
        "\n",
        "# ✅ Done! Print cleaned DataFrame\n",
        "print(\"✅ Cleaned Real Estate Data:\\n\")\n",
        "print(df)\n"
      ],
      "metadata": {
        "colab": {
          "base_uri": "https://localhost:8080/"
        },
        "id": "ZXJ7MxiHPEdX",
        "outputId": "b0bcc15e-fb0b-4e52-f0b2-58ad7df39881"
      },
      "execution_count": 5,
      "outputs": [
        {
          "output_type": "stream",
          "name": "stdout",
          "text": [
            "✅ Cleaned Real Estate Data:\n",
            "\n",
            "   House_ID   Location  Area_sqft  Bedrooms  Price_Lakhs     Status  \\\n",
            "0       101  Bangalore     1200.0         3    85.000000       sold   \n",
            "1       102     Mumbai      900.0         2    87.142857  available   \n",
            "2       103  Bangalore     1100.0         3    80.000000       sold   \n",
            "3       104      Delhi     1150.0         2    70.000000  available   \n",
            "4       105     Mumbai     1500.0         4   120.000000       sold   \n",
            "6       106  Hyderabad     1000.0         3    75.000000       sold   \n",
            "7       107    Chennai      850.0         2    60.000000  available   \n",
            "\n",
            "      Owner_Name  \n",
            "0   Ramesh Kumar  \n",
            "1      Sita Devi  \n",
            "2     John Smith  \n",
            "3  Alice Johnson  \n",
            "4     Ravi Patel  \n",
            "6     Meera Nair  \n",
            "7      David Roy  \n"
          ]
        },
        {
          "output_type": "stream",
          "name": "stderr",
          "text": [
            "/tmp/ipython-input-5-2119005650.py:29: FutureWarning: Downcasting behavior in `replace` is deprecated and will be removed in a future version. To retain the old behavior, explicitly call `result.infer_objects(copy=False)`. To opt-in to the future behavior, set `pd.set_option('future.no_silent_downcasting', True)`\n",
            "  df['Bedrooms'] = df['Bedrooms'].replace('two', 2)\n"
          ]
        }
      ]
    },
    {
      "cell_type": "code",
      "source": [
        "import re\n",
        "\n",
        "text = \"Hello!!! This is a SAMPLE text 😊 with Numbers: 123 and Symbols!!!\"\n",
        "\n",
        "print(\"Original:\", text)\n",
        "print(\"Lowercase:\", text.lower())\n",
        "print(\"Uppercase:\", text.upper())\n",
        "print(\"Title Case:\", text.title())\n",
        "print(\"Capitalize:\", text.capitalize())\n",
        "print(\"Swap Case:\", text.swapcase())\n",
        "\n",
        "# Remove punctuation\n",
        "no_punct = re.sub(r'[^\\w\\s]', '', text)\n",
        "print(\"No punctuation:\", no_punct)\n",
        "\n",
        "# Remove numbers\n",
        "no_digits = re.sub(r'\\d+', '', text)\n",
        "print(\"No numbers:\", no_digits)\n",
        "\n",
        "# Remove emojis / non-ascii\n",
        "no_emoji = re.sub(r'[^\\x00-\\x7F]+', '', text)\n",
        "print(\"No emoji:\", no_emoji)\n",
        "\n",
        "# Remove extra spaces\n",
        "clean_spaces = re.sub(r'\\s+', ' ', text).strip()\n",
        "print(\"Cleaned spaces:\", clean_spaces)\n"
      ],
      "metadata": {
        "colab": {
          "base_uri": "https://localhost:8080/"
        },
        "id": "qhqi6_wAQf8Y",
        "outputId": "b64a9b57-5fbc-4763-a554-6c34b4d7148d"
      },
      "execution_count": 8,
      "outputs": [
        {
          "output_type": "stream",
          "name": "stdout",
          "text": [
            "Original: Hello!!! This is a SAMPLE text 😊 with Numbers: 123 and Symbols!!!\n",
            "Lowercase: hello!!! this is a sample text 😊 with numbers: 123 and symbols!!!\n",
            "Uppercase: HELLO!!! THIS IS A SAMPLE TEXT 😊 WITH NUMBERS: 123 AND SYMBOLS!!!\n",
            "Title Case: Hello!!! This Is A Sample Text 😊 With Numbers: 123 And Symbols!!!\n",
            "Capitalize: Hello!!! this is a sample text 😊 with numbers: 123 and symbols!!!\n",
            "Swap Case: hELLO!!! tHIS IS A sample TEXT 😊 WITH nUMBERS: 123 AND sYMBOLS!!!\n",
            "No punctuation: Hello This is a SAMPLE text  with Numbers 123 and Symbols\n",
            "No numbers: Hello!!! This is a SAMPLE text 😊 with Numbers:  and Symbols!!!\n",
            "No emoji: Hello!!! This is a SAMPLE text  with Numbers: 123 and Symbols!!!\n",
            "Cleaned spaces: Hello!!! This is a SAMPLE text 😊 with Numbers: 123 and Symbols!!!\n"
          ]
        }
      ]
    },
    {
      "cell_type": "code",
      "source": [],
      "metadata": {
        "id": "AIKDMYQcRFQO"
      },
      "execution_count": null,
      "outputs": []
    }
  ]
}