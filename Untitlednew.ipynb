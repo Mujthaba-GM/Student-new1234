{
  "nbformat": 4,
  "nbformat_minor": 0,
  "metadata": {
    "colab": {
      "provenance": [],
      "authorship_tag": "ABX9TyO4zGC2x08J1mD2Yhs8LVsr",
      "include_colab_link": true
    },
    "kernelspec": {
      "name": "python3",
      "display_name": "Python 3"
    },
    "language_info": {
      "name": "python"
    }
  },
  "cells": [
    {
      "cell_type": "markdown",
      "metadata": {
        "id": "view-in-github",
        "colab_type": "text"
      },
      "source": [
        "<a href=\"https://colab.research.google.com/github/Mujthaba-GM/Student-new1234/blob/main/Untitlednew.ipynb\" target=\"_parent\"><img src=\"https://colab.research.google.com/assets/colab-badge.svg\" alt=\"Open In Colab\"/></a>"
      ]
    },
    {
      "cell_type": "code",
      "source": [
        "#Printing the data types\n",
        "print(\"Integer type is\",type(a))\n",
        "print(\"Float type is\",type(b))\n",
        "print(\"char type is \",type(c))\n",
        "print(\"String type is \",type(d))\n",
        "print(\"Boolean type is \",type(bool))"
      ],
      "metadata": {
        "colab": {
          "base_uri": "https://localhost:8080/"
        },
        "id": "u8nC4fZQ58dw",
        "outputId": "d7e1f1c0-e742-4534-98f9-a6fb8a2efa3d"
      },
      "execution_count": null,
      "outputs": [
        {
          "output_type": "stream",
          "name": "stdout",
          "text": [
            "Integer type is <class 'int'>\n",
            "Float type is <class 'int'>\n",
            "char type is  <class 'int'>\n",
            "String type is  <class 'float'>\n",
            "Boolean type is  <class 'bool'>\n"
          ]
        }
      ]
    },
    {
      "cell_type": "markdown",
      "source": [
        "2"
      ],
      "metadata": {
        "id": "8cW4pIDrEr1_"
      }
    },
    {
      "cell_type": "code",
      "source": [],
      "metadata": {
        "id": "EDTwNGWkEtGM"
      },
      "execution_count": null,
      "outputs": []
    },
    {
      "cell_type": "code",
      "execution_count": null,
      "metadata": {
        "colab": {
          "base_uri": "https://localhost:8080/"
        },
        "id": "m-eJZQWG5Uj4",
        "outputId": "65aa5d64-4791-46e7-9724-fa20e8402f16"
      },
      "outputs": [
        {
          "output_type": "stream",
          "name": "stdout",
          "text": [
            "Integre  10\n",
            "Float 10.5\n",
            "char a\n",
            "string  hello\n",
            "Boolean= True\n"
          ]
        }
      ],
      "source": [
        "#Different data types\n",
        "a=10\n",
        "b=10.5\n",
        "c='a'\n",
        "d='hello'\n",
        "bool=True\n",
        "print(\"Integre \",a)\n",
        "print(\"Float\",b)\n",
        "print(\"char\",c)\n",
        "print(\"string \",d)\n",
        "print(\"Boolean=\",bool)\n"
      ]
    },
    {
      "cell_type": "code",
      "source": [
        "#explicit type conversions\n",
        "a=10.5\n",
        "print(\"a data type is \",type(a))\n",
        "print(\"a value is\",a)\n",
        "b=int(a)\n",
        "print(\"b data type is\",type(b))\n",
        "print(\"b value is  \",b)\n",
        "#implicit data type conversion\n",
        "c=100\n",
        "d=100.5\n",
        "e=c+d\n",
        "print(\"e value is\",e)\n",
        "print(\"Data type of e is\",type(e))"
      ],
      "metadata": {
        "colab": {
          "base_uri": "https://localhost:8080/"
        },
        "id": "NEz-CZ6l6qWH",
        "outputId": "4503643f-907b-4841-933f-c18fc76a4a7c"
      },
      "execution_count": null,
      "outputs": [
        {
          "output_type": "stream",
          "name": "stdout",
          "text": [
            "a data type is  <class 'float'>\n",
            "a value is 10.5\n",
            "b data type is <class 'int'>\n",
            "b value is   10\n",
            "e value is 200.5\n",
            "Data type of e is <class 'float'>\n"
          ]
        }
      ]
    },
    {
      "cell_type": "code",
      "source": [
        "#Arithmatic Operators\n",
        "a=int(input(\"Enter a value\"))\n",
        "b=int(input(\"Enter b value\"))\n",
        "sum=a+b\n",
        "print(\"Add of two numbers\",sum)\n",
        "sub=a-b\n",
        "print(\"Sub of two numbers is\",sub)\n",
        "mul=a*b\n",
        "print(\"Mul of two numbers is \",mul)\n",
        "div=a/b\n",
        "print(\"Div of two numbers is \",a/b)\n",
        "mod=a%b\n",
        "print(\"Mod of two numbers is \",a%b)\n"
      ],
      "metadata": {
        "colab": {
          "base_uri": "https://localhost:8080/",
          "height": 297
        },
        "id": "N8ijGzEF8ONq",
        "outputId": "9844e90c-2b04-4a28-9142-3bcc2481e05b"
      },
      "execution_count": null,
      "outputs": [
        {
          "output_type": "stream",
          "name": "stdout",
          "text": [
            "Enter a value10\n",
            "Enter b value0\n",
            "Add of two numbers 10\n",
            "Sub of two numbers is 10\n",
            "Mul of two numbers is  0\n"
          ]
        },
        {
          "output_type": "error",
          "ename": "ZeroDivisionError",
          "evalue": "division by zero",
          "traceback": [
            "\u001b[0;31m---------------------------------------------------------------------------\u001b[0m",
            "\u001b[0;31mZeroDivisionError\u001b[0m                         Traceback (most recent call last)",
            "\u001b[0;32m<ipython-input-56-22b1dc6d3ded>\u001b[0m in \u001b[0;36m<cell line: 0>\u001b[0;34m()\u001b[0m\n\u001b[1;32m      8\u001b[0m \u001b[0mmul\u001b[0m\u001b[0;34m=\u001b[0m\u001b[0ma\u001b[0m\u001b[0;34m*\u001b[0m\u001b[0mb\u001b[0m\u001b[0;34m\u001b[0m\u001b[0;34m\u001b[0m\u001b[0m\n\u001b[1;32m      9\u001b[0m \u001b[0mprint\u001b[0m\u001b[0;34m(\u001b[0m\u001b[0;34m\"Mul of two numbers is \"\u001b[0m\u001b[0;34m,\u001b[0m\u001b[0mmul\u001b[0m\u001b[0;34m)\u001b[0m\u001b[0;34m\u001b[0m\u001b[0;34m\u001b[0m\u001b[0m\n\u001b[0;32m---> 10\u001b[0;31m \u001b[0mdiv\u001b[0m\u001b[0;34m=\u001b[0m\u001b[0ma\u001b[0m\u001b[0;34m/\u001b[0m\u001b[0mb\u001b[0m\u001b[0;34m\u001b[0m\u001b[0;34m\u001b[0m\u001b[0m\n\u001b[0m\u001b[1;32m     11\u001b[0m \u001b[0mprint\u001b[0m\u001b[0;34m(\u001b[0m\u001b[0;34m\"Div of two numbers is \"\u001b[0m\u001b[0;34m,\u001b[0m\u001b[0ma\u001b[0m\u001b[0;34m/\u001b[0m\u001b[0mb\u001b[0m\u001b[0;34m)\u001b[0m\u001b[0;34m\u001b[0m\u001b[0;34m\u001b[0m\u001b[0m\n\u001b[1;32m     12\u001b[0m \u001b[0mmod\u001b[0m\u001b[0;34m=\u001b[0m\u001b[0ma\u001b[0m\u001b[0;34m%\u001b[0m\u001b[0mb\u001b[0m\u001b[0;34m\u001b[0m\u001b[0;34m\u001b[0m\u001b[0m\n",
            "\u001b[0;31mZeroDivisionError\u001b[0m: division by zero"
          ]
        }
      ]
    },
    {
      "cell_type": "code",
      "source": [
        "#Relational Operators\n",
        "#< <= > >= == !=\n",
        "a=10\n",
        "b=20\n",
        "print(\"a is less than b\",a<b)\n",
        "print(\"b is greater than a\",b>a)\n",
        "print(\"a is not equal to b\",a!=b)\n",
        "print(\"a is equal to b\",a==b)\n",
        "print(\"not a\",not a)\n",
        "print(\"not b\",not b)\n",
        "print(\" a is less than or equal to b\",a<=b)\n",
        "\n"
      ],
      "metadata": {
        "id": "vSGsSp7E9NXA"
      },
      "execution_count": null,
      "outputs": []
    },
    {
      "cell_type": "code",
      "source": [
        "#logical Operators\n",
        "a=10\n",
        "b=20\n",
        "c=30\n",
        "print(\"a is big\",(a > b) and (a >c ))\n",
        "print(\" b is big\",(b>a) and (b>c))\n",
        "print(\"C is big\",(c>a) and (c>b))\n",
        "\n"
      ],
      "metadata": {
        "id": "asCpD2bi-V1F"
      },
      "execution_count": null,
      "outputs": []
    },
    {
      "cell_type": "code",
      "source": [
        "#increment operator\n",
        "a=10\n",
        "a=a+1\n",
        "print(\"inc a value by 1\",a)\n",
        "#decrement operator\n",
        "a=a-1\n",
        "print(\"Dec a value by 1\",b)"
      ],
      "metadata": {
        "id": "xIg94STR6Ncd"
      },
      "execution_count": null,
      "outputs": []
    },
    {
      "cell_type": "code",
      "source": [
        "#Evalaution of simple expression\n",
        "#z=(a+b)*c/2\n",
        "a=int(input(\"enter the value of a\"))\n",
        "b=int(input(\"enter the value of b\"))\n",
        "c=int(input(\"Enter the c value\"))\n",
        "z=(a+b)*c/2\n",
        "print(\"z=\",z)"
      ],
      "metadata": {
        "id": "LqvL3f5V_OC8"
      },
      "execution_count": null,
      "outputs": []
    },
    {
      "cell_type": "code",
      "source": [
        "#Simple if loop\n",
        "a=10\n",
        "b=20\n",
        "if(a>b):\n",
        "  print(\" a is bigger\")\n",
        "else:\n",
        "  print(\"B is bigger\")"
      ],
      "metadata": {
        "id": "UKVxDF8FAVJb"
      },
      "execution_count": null,
      "outputs": []
    },
    {
      "cell_type": "code",
      "source": [
        "#Nested if else\n",
        "a=int(input(\"enter the value of a\"))\n",
        "b=int(input(\"enter the value of b\"))\n",
        "c=int(input(\"Enter the c value\"))\n",
        "if(a>b):\n",
        "  if(a>c):\n",
        "    print(\"a is big\",a)\n",
        "  else:\n",
        "    print(\"C is big,c\")\n",
        "else:\n",
        "  if(b>c):\n",
        "    print(\"B is big\",b)\n",
        "  else:\n",
        "    print(\"C is big,c\")\n"
      ],
      "metadata": {
        "id": "bGnzNd1dArmE"
      },
      "execution_count": null,
      "outputs": []
    },
    {
      "cell_type": "code",
      "source": [
        "#nested elif\n",
        "\n",
        "math=int(input(\"enter the value of a\"))\n",
        "phy=int(input(\"enter the value of b\"))\n",
        "chem=int(input(\"Enter the c value\"))\n",
        "sum=math+phy+chem\n",
        "print(\"Sum=\",sum)\n",
        "avg=sum/3\n",
        "print(\"avg=\",avg)\n",
        "if(avg>=95):\n",
        "  print(\"Grade A+\",avg)\n",
        "elif(avg>=90) and (avg<95):\n",
        "  print(\"Grade A\",avg)\n",
        "elif(avg>=85) and (avg<90):\n",
        "  print(\"Grade B+=\",avg)\n",
        "elif(avg>=80) and (avg<85):\n",
        "  print(\"Grade B=\",avg)"
      ],
      "metadata": {
        "id": "mxRC-C0OBWJU"
      },
      "execution_count": null,
      "outputs": []
    },
    {
      "cell_type": "code",
      "source": [
        "#while loop\n",
        "i=1\n",
        "n=int(input(\"enter the value of n\"))\n",
        "while(i<=n):\n",
        "  print(\"\\n i=\",i)\n",
        "  i=i+1\n"
      ],
      "metadata": {
        "id": "2Vn34nj2Cnnh"
      },
      "execution_count": null,
      "outputs": []
    },
    {
      "cell_type": "code",
      "source": [
        "#Sum of natural numbers\n",
        "i=1\n",
        "sum=0\n",
        "n=int(input(\"enter the value of n\"))\n",
        "while(i<=n):\n",
        "  print(\"\\n i=\",i)\n",
        "  sum=sum+i\n",
        "  i=i+1\n",
        "print(\"Sum =\",sum)\n",
        "\n"
      ],
      "metadata": {
        "id": "LQT5r35nDAYO"
      },
      "execution_count": null,
      "outputs": []
    },
    {
      "cell_type": "markdown",
      "source": [
        "3"
      ],
      "metadata": {
        "id": "m4TVb4J-BTje"
      }
    },
    {
      "cell_type": "code",
      "source": [
        "#for loop\n",
        "n=int(input(\"Enter the value of n\",))\n",
        "for i in range(10):\n",
        "  print(i)\n"
      ],
      "metadata": {
        "id": "atd9Ar1GDRik"
      },
      "execution_count": null,
      "outputs": []
    },
    {
      "cell_type": "code",
      "source": [],
      "metadata": {
        "id": "_r4Kz9rJDhlO"
      },
      "execution_count": null,
      "outputs": []
    }
  ]
}