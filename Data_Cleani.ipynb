{
  "nbformat": 4,
  "nbformat_minor": 0,
  "metadata": {
    "colab": {
      "provenance": [],
      "authorship_tag": "ABX9TyNKIVv2WnQjjI0vzk9igpdy",
      "include_colab_link": true
    },
    "kernelspec": {
      "name": "python3",
      "display_name": "Python 3"
    },
    "language_info": {
      "name": "python"
    }
  },
  "cells": [
    {
      "cell_type": "markdown",
      "metadata": {
        "id": "view-in-github",
        "colab_type": "text"
      },
      "source": [
        "<a href=\"https://colab.research.google.com/github/Mujthaba-GM/Student-new1234/blob/main/Data_Cleani.ipynb\" target=\"_parent\"><img src=\"https://colab.research.google.com/assets/colab-badge.svg\" alt=\"Open In Colab\"/></a>"
      ]
    },
    {
      "cell_type": "code",
      "execution_count": null,
      "metadata": {
        "colab": {
          "base_uri": "https://localhost:8080/"
        },
        "id": "fKb3hTuvb2Ol",
        "outputId": "4c9612c4-d9b5-410b-dbd3-c9f21962d627"
      },
      "outputs": [
        {
          "output_type": "stream",
          "name": "stdout",
          "text": [
            "📋 Original DataFrame (with NaN values):\n",
            "\n",
            "   Emp_ID   Name   Age   Salary\n",
            "0     101  Alice  25.0  50000.0\n",
            "1     102    Bob   NaN  60000.0\n",
            "2     103    NaN  30.0  55000.0\n",
            "3     104  David  22.0      NaN\n",
            "4     105    Eve   NaN  52000.0\n",
            "\n",
            "✅ DataFrame after Dropping Rows with NaN:\n",
            "\n",
            "   Emp_ID   Name   Age   Salary\n",
            "0     101  Alice  25.0  50000.0\n"
          ]
        }
      ],
      "source": [
        "# Dropping NaN values with data frames\n",
        "import pandas as pd\n",
        "import numpy as np\n",
        "\n",
        "# Step 1: Create a DataFrame with some NaN values\n",
        "df = pd.DataFrame({\n",
        "    'Emp_ID': [101, 102, 103, 104, 105],\n",
        "    'Name': ['Alice', 'Bob', np.nan, 'David', 'Eve'],\n",
        "    'Age': [25, np.nan, 30, 22, np.nan],\n",
        "    'Salary': [50000, 60000, 55000, np.nan, 52000]\n",
        "})\n",
        "\n",
        "print(\"📋 Original DataFrame (with NaN values):\\n\")\n",
        "print(df)\n",
        "\n",
        "# Step 2: Drop rows with any NaN values\n",
        "df_dropped = df.dropna()\n",
        "\n",
        "print(\"\\n✅ DataFrame after Dropping Rows with NaN:\\n\")\n",
        "print(df_dropped)\n"
      ]
    },
    {
      "cell_type": "code",
      "source": [
        "#Remove duplicates\n",
        "import pandas as pd\n",
        "\n",
        "# Step 1: Create a DataFrame with duplicate rows\n",
        "df = pd.DataFrame({\n",
        "    'Emp_ID': [101, 102, 103, 101, 104, 102],\n",
        "    'Name': ['Alice', 'Bob', 'Charlie', 'Alice', 'David', 'Bob'],\n",
        "    'Department': ['HR', 'Finance', 'IT', 'HR', 'IT', 'Finance']\n",
        "})\n",
        "\n",
        "print(\"📋 Original DataFrame (with duplicates):\\n\")\n",
        "print(df)\n",
        "\n",
        "# Step 2: Remove duplicate rows\n",
        "df_no_duplicates = df.drop_duplicates()\n",
        "\n",
        "print(\"\\n✅ DataFrame after Removing Duplicates:\\n\")\n",
        "print(df_no_duplicates)\n"
      ],
      "metadata": {
        "colab": {
          "base_uri": "https://localhost:8080/"
        },
        "id": "HvMC35KTiXRw",
        "outputId": "e9562bec-7fb4-4990-8ff6-6dcaa7f9533f"
      },
      "execution_count": null,
      "outputs": [
        {
          "output_type": "stream",
          "name": "stdout",
          "text": [
            "📋 Original DataFrame (with duplicates):\n",
            "\n",
            "   Emp_ID     Name Department\n",
            "0     101    Alice         HR\n",
            "1     102      Bob    Finance\n",
            "2     103  Charlie         IT\n",
            "3     101    Alice         HR\n",
            "4     104    David         IT\n",
            "5     102      Bob    Finance\n",
            "\n",
            "✅ DataFrame after Removing Duplicates:\n",
            "\n",
            "   Emp_ID     Name Department\n",
            "0     101    Alice         HR\n",
            "1     102      Bob    Finance\n",
            "2     103  Charlie         IT\n",
            "4     104    David         IT\n"
          ]
        }
      ]
    },
    {
      "cell_type": "code",
      "source": [
        "#Incorrect data types\n",
        "import pandas as pd\n",
        "\n",
        "# Step 1: Create a DataFrame with string values\n",
        "df = pd.DataFrame({\n",
        "    'JoinDate': ['2023-01-01', '2022-05-20', 'invalid_date'],\n",
        "    'Emp_Age': ['30', '25', 'not_available']\n",
        "})\n",
        "\n",
        "print(\"📋 Original DataFrame with String Types:\\n\")\n",
        "print(df)\n",
        "print(\"\\nData Types Before Correction:\\n\", df.dtypes)\n",
        "\n",
        "# Step 2: Convert string to correct data types\n",
        "df_corrected = df.copy()\n",
        "\n",
        "# Convert JoinDate to datetime (errors='coerce' turns invalid to NaT)\n",
        "df_corrected['JoinDate'] = pd.to_datetime(df_corrected['JoinDate'], errors='coerce')\n",
        "\n",
        "# Convert Emp_Age to integer (errors='coerce' turns invalid to NaN)\n",
        "df_corrected['Emp_Age'] = pd.to_numeric(df_corrected['Emp_Age'], errors='coerce')\n",
        "\n",
        "print(\"\\n✅ DataFrame After Type Conversion:\\n\")\n",
        "print(df_corrected)\n",
        "print(\"\\nData Types After Correction:\\n\", df_corrected.dtypes)\n"
      ],
      "metadata": {
        "colab": {
          "base_uri": "https://localhost:8080/"
        },
        "id": "NSc6udeFjdH6",
        "outputId": "3a5e4791-e1f4-4b57-8213-8cc7f27d270f"
      },
      "execution_count": null,
      "outputs": [
        {
          "output_type": "stream",
          "name": "stdout",
          "text": [
            "📋 Original DataFrame with String Types:\n",
            "\n",
            "       JoinDate        Emp_Age\n",
            "0    2023-01-01             30\n",
            "1    2022-05-20             25\n",
            "2  invalid_date  not_available\n",
            "\n",
            "Data Types Before Correction:\n",
            " JoinDate    object\n",
            "Emp_Age     object\n",
            "dtype: object\n",
            "\n",
            "✅ DataFrame After Type Conversion:\n",
            "\n",
            "    JoinDate  Emp_Age\n",
            "0 2023-01-01     30.0\n",
            "1 2022-05-20     25.0\n",
            "2        NaT      NaN\n",
            "\n",
            "Data Types After Correction:\n",
            " JoinDate    datetime64[ns]\n",
            "Emp_Age            float64\n",
            "dtype: object\n"
          ]
        }
      ]
    },
    {
      "cell_type": "code",
      "source": [
        "#standardize\n",
        "import pandas as pd\n",
        "\n",
        "# Step 1: Create a DataFrame with inconsistent text cases\n",
        "df = pd.DataFrame({\n",
        "    'City': ['LONDON', 'London', 'london', 'LoNDoN', 'NEW YORK']\n",
        "})\n",
        "\n",
        "print(\"📋 Original DataFrame:\\n\")\n",
        "print(df)\n",
        "\n",
        "# Step 2: Standardize text to lowercase\n",
        "df_standardized = df.copy()\n",
        "df_standardized['City'] = df_standardized['City'].str.lower()\n",
        "\n",
        "print(\"\\n✅ After Standardizing Text Data (lowercase):\\n\")\n",
        "print(df_standardized)\n"
      ],
      "metadata": {
        "colab": {
          "base_uri": "https://localhost:8080/"
        },
        "id": "DDlwmja6ovPy",
        "outputId": "3aa7deff-6efe-4dfc-d301-8b63cf98f742"
      },
      "execution_count": null,
      "outputs": [
        {
          "output_type": "stream",
          "name": "stdout",
          "text": [
            "📋 Original DataFrame:\n",
            "\n",
            "       City\n",
            "0    LONDON\n",
            "1    London\n",
            "2    london\n",
            "3    LoNDoN\n",
            "4  NEW YORK\n",
            "\n",
            "✅ After Standardizing Text Data (lowercase):\n",
            "\n",
            "       City\n",
            "0    london\n",
            "1    london\n",
            "2    london\n",
            "3    london\n",
            "4  new york\n"
          ]
        }
      ]
    },
    {
      "cell_type": "code",
      "source": [
        "#IQR method outliers\n",
        "import pandas as pd\n",
        "\n",
        "# Step 1: Create a DataFrame with some outliers\n",
        "df = pd.DataFrame({\n",
        "    'Salary': [50000, 52000, 51000, 49000, 50500, 100000]  # 100000 is an outlier\n",
        "})\n",
        "\n",
        "print(\"📋 Original DataFrame:\\n\")\n",
        "print(df)\n",
        "\n",
        "# Step 2: Calculate IQR\n",
        "Q1 = df['Salary'].quantile(0.25)\n",
        "Q3 = df['Salary'].quantile(0.75)\n",
        "IQR = Q3 - Q1\n",
        "\n",
        "# Step 3: Define bounds\n",
        "lower_bound = Q1 - 1.5 * IQR\n",
        "upper_bound = Q3 + 1.5 * IQR\n",
        "\n",
        "# Step 4: Filter out outliers\n",
        "df_iqr_cleaned = df[(df['Salary'] >= lower_bound) & (df['Salary'] <= upper_bound)]\n",
        "\n",
        "print(\"\\n✅ DataFrame after Removing Outliers using IQR:\\n\")\n",
        "print(df_iqr_cleaned)\n"
      ],
      "metadata": {
        "colab": {
          "base_uri": "https://localhost:8080/"
        },
        "id": "305LRdFWpBpV",
        "outputId": "482f3e5d-9d5c-462e-f193-39ec88b9f7a6"
      },
      "execution_count": null,
      "outputs": [
        {
          "output_type": "stream",
          "name": "stdout",
          "text": [
            "📋 Original DataFrame:\n",
            "\n",
            "   Salary\n",
            "0   50000\n",
            "1   52000\n",
            "2   51000\n",
            "3   49000\n",
            "4   50500\n",
            "5  100000\n",
            "\n",
            "✅ DataFrame after Removing Outliers using IQR:\n",
            "\n",
            "   Salary\n",
            "0   50000\n",
            "1   52000\n",
            "2   51000\n",
            "3   49000\n",
            "4   50500\n"
          ]
        }
      ]
    }
  ]
}