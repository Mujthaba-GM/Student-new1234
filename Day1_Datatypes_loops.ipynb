{
  "nbformat": 4,
  "nbformat_minor": 0,
  "metadata": {
    "colab": {
      "provenance": [],
      "mount_file_id": "1Oyg69Ufe0L6ouLPI4EBAz6Jj8JtBu3rw",
      "authorship_tag": "ABX9TyPhcJjI5ntd6NNM1GFr4cm4",
      "include_colab_link": true
    },
    "kernelspec": {
      "name": "python3",
      "display_name": "Python 3"
    },
    "language_info": {
      "name": "python"
    }
  },
  "cells": [
    {
      "cell_type": "markdown",
      "metadata": {
        "id": "view-in-github",
        "colab_type": "text"
      },
      "source": [
        "<a href=\"https://colab.research.google.com/github/Mujthaba-GM/Student-new1234/blob/main/Day1_Datatypes_loops.ipynb\" target=\"_parent\"><img src=\"https://colab.research.google.com/assets/colab-badge.svg\" alt=\"Open In Colab\"/></a>"
      ]
    },
    {
      "cell_type": "code",
      "source": [
        "#Different data types\n",
        "a=10\n",
        "b=10.5\n",
        "c='a'\n",
        "d='hello'\n",
        "bool=True\n",
        "print(\"Integre \",a)\n",
        "print(\"Float\",b)\n",
        "print(\"char\",c)\n",
        "print(\"string \",d)\n",
        "print(\"Boolean=\",bool)\n",
        "\n",
        "#Printing the data types\n",
        "print(\"Integer type is\",type(a))\n",
        "print(\"Float type is\",type(b))\n",
        "print(\"char type is \",type(c))\n",
        "print(\"String type is \",type(d))\n",
        "print(\"Boolean type is \",type(bool))"
      ],
      "metadata": {
        "colab": {
          "base_uri": "https://localhost:8080/"
        },
        "id": "u8nC4fZQ58dw",
        "outputId": "d7e1f1c0-e742-4534-98f9-a6fb8a2efa3d"
      },
      "execution_count": null,
      "outputs": [
        {
          "output_type": "stream",
          "name": "stdout",
          "text": [
            "Integer type is <class 'int'>\n",
            "Float type is <class 'int'>\n",
            "char type is  <class 'int'>\n",
            "String type is  <class 'float'>\n",
            "Boolean type is  <class 'bool'>\n"
          ]
        }
      ]
    },
    {
      "cell_type": "markdown",
      "source": [
        "2"
      ],
      "metadata": {
        "id": "8cW4pIDrEr1_"
      }
    },
    {
      "cell_type": "code",
      "source": [],
      "metadata": {
        "id": "EDTwNGWkEtGM"
      },
      "execution_count": null,
      "outputs": []
    },
    {
      "cell_type": "code",
      "execution_count": null,
      "metadata": {
        "colab": {
          "base_uri": "https://localhost:8080/"
        },
        "id": "m-eJZQWG5Uj4",
        "outputId": "65aa5d64-4791-46e7-9724-fa20e8402f16"
      },
      "outputs": [
        {
          "output_type": "stream",
          "name": "stdout",
          "text": [
            "Integre  10\n",
            "Float 10.5\n",
            "char a\n",
            "string  hello\n",
            "Boolean= True\n"
          ]
        }
      ],
      "source": []
    },
    {
      "cell_type": "code",
      "source": [
        "#explicit type conversions\n",
        "a=10.5\n",
        "print(\"Explicit type conversion\")\n",
        "print(\"a data type is \",type(a))\n",
        "print(\"a value is\",a)\n",
        "b=int(a)\n",
        "print(\"b data type is\",type(b))\n",
        "print(\"b value is  \",b)\n",
        "#implicit data type conversion\n",
        "c=100\n",
        "d=100.5\n",
        "e=c+d\n",
        "print(\"e value is\",e)\n",
        "print(\"Data type of e is\",type(e))"
      ],
      "metadata": {
        "colab": {
          "base_uri": "https://localhost:8080/"
        },
        "id": "NEz-CZ6l6qWH",
        "outputId": "32985060-6802-487a-87dc-100b16139816"
      },
      "execution_count": 2,
      "outputs": [
        {
          "output_type": "stream",
          "name": "stdout",
          "text": [
            "Explicit type conversion\n",
            "a data type is  <class 'float'>\n",
            "a value is 10.5\n",
            "b data type is <class 'int'>\n",
            "b value is   10\n",
            "e value is 200.5\n",
            "Data type of e is <class 'float'>\n"
          ]
        }
      ]
    },
    {
      "cell_type": "code",
      "source": [
        "#Arithmatic Operators\n",
        "a=int(input(\"Enter a value\"))\n",
        "b=int(input(\"Enter b value\"))\n",
        "sum=a+b\n",
        "print(\"Add of two numbers\",sum)\n",
        "sub=a-b\n",
        "print(\"Sub of two numbers is\",sub)\n",
        "mul=a*b\n",
        "print(\"Mul of two numbers is \",mul)\n",
        "div=a/b\n",
        "print(\"Div of two numbers is \",a/b)\n",
        "mod=a%b\n",
        "print(\"Mod of two numbers is \",mod)\n"
      ],
      "metadata": {
        "colab": {
          "base_uri": "https://localhost:8080/"
        },
        "id": "N8ijGzEF8ONq",
        "outputId": "79e00711-abd3-426f-f2ca-7d9f7b4539c6"
      },
      "execution_count": 4,
      "outputs": [
        {
          "output_type": "stream",
          "name": "stdout",
          "text": [
            "Enter a value20\n",
            "Enter b value10\n",
            "Add of two numbers 30\n",
            "Sub of two numbers is 10\n",
            "Mul of two numbers is  200\n",
            "Div of two numbers is  2.0\n",
            "Mod of two numbers is  0\n"
          ]
        }
      ]
    },
    {
      "cell_type": "code",
      "source": [
        "#Relational Operators\n",
        "#< <= > >= == !=\n",
        "a=10\n",
        "b=20\n",
        "print(\"a is less than b\",a<b)\n",
        "print(\"b is greater than a\",b>a)\n",
        "print(\"a is not equal to b\",a!=b)\n",
        "print(\"a is equal to b\",a==b)\n",
        "print(\"not a\",not a)\n",
        "print(\"not b\",not b)\n",
        "print(\" a is less than or equal to b\",a<=b)\n",
        "\n"
      ],
      "metadata": {
        "id": "vSGsSp7E9NXA"
      },
      "execution_count": null,
      "outputs": []
    },
    {
      "cell_type": "code",
      "source": [
        "#logical Operators\n",
        "a=10\n",
        "b=20\n",
        "c=30\n",
        "print(\"a is big\",(a > b) and (a >c ))\n",
        "print(\" b is big\",(b>a) and (b>c))\n",
        "print(\"C is big\",(c>a) and (c>b))\n",
        "\n"
      ],
      "metadata": {
        "id": "asCpD2bi-V1F"
      },
      "execution_count": null,
      "outputs": []
    },
    {
      "cell_type": "code",
      "source": [
        "#increment operator\n",
        "a=10\n",
        "a=a+1\n",
        "print(\"inc a value by 1\",a)\n",
        "#decrement operator\n",
        "a=a-1\n",
        "print(\"Dec a value by 1\",b)"
      ],
      "metadata": {
        "id": "xIg94STR6Ncd"
      },
      "execution_count": null,
      "outputs": []
    },
    {
      "cell_type": "code",
      "source": [
        "#Evalaution of simple expression\n",
        "#z=(a+b)*c/2\n",
        "a=int(input(\"enter the value of a\"))\n",
        "b=int(input(\"enter the value of b\"))\n",
        "c=int(input(\"Enter the c value\"))\n",
        "z=(a+b)*c/2\n",
        "print(\"z=\",z)"
      ],
      "metadata": {
        "id": "LqvL3f5V_OC8"
      },
      "execution_count": null,
      "outputs": []
    },
    {
      "cell_type": "code",
      "source": [
        "#Simple if loop\n",
        "a=10\n",
        "b=20\n",
        "if(a>b):\n",
        "  print(\" a is bigger\")\n",
        "else:\n",
        "  print(\"B is bigger\")"
      ],
      "metadata": {
        "id": "UKVxDF8FAVJb"
      },
      "execution_count": null,
      "outputs": []
    },
    {
      "cell_type": "code",
      "source": [
        "#Nested if else\n",
        "a=int(input(\"enter the value of a\"))\n",
        "b=int(input(\"enter the value of b\"))\n",
        "c=int(input(\"Enter the c value\"))\n",
        "if(a>b):\n",
        "  if(a>c):\n",
        "    print(\"a is big\",a)\n",
        "  else:\n",
        "    print(\"C is big,c\")\n",
        "else:\n",
        "  if(b>c):\n",
        "    print(\"B is big\",b)\n",
        "  else:\n",
        "    print(\"C is big,c\")\n"
      ],
      "metadata": {
        "id": "bGnzNd1dArmE"
      },
      "execution_count": null,
      "outputs": []
    },
    {
      "cell_type": "code",
      "source": [
        "#nested elif\n",
        "\n",
        "math=int(input(\"enter the value of a\"))\n",
        "phy=int(input(\"enter the value of b\"))\n",
        "chem=int(input(\"Enter the c value\"))\n",
        "sum=math+phy+chem\n",
        "print(\"Sum=\",sum)\n",
        "avg=sum/3\n",
        "print(\"avg=\",avg)\n",
        "if(avg>=95):\n",
        "  print(\"Grade A+\",avg)\n",
        "elif(avg>=90) and (avg<95):\n",
        "  print(\"Grade A\",avg)\n",
        "elif(avg>=85) and (avg<90):\n",
        "  print(\"Grade B+=\",avg)\n",
        "elif(avg>=80) and (avg<85):\n",
        "  print(\"Grade B=\",avg)"
      ],
      "metadata": {
        "id": "mxRC-C0OBWJU"
      },
      "execution_count": null,
      "outputs": []
    },
    {
      "cell_type": "code",
      "source": [
        "#while loop\n",
        "i=1\n",
        "n=int(input(\"enter the value of n\"))\n",
        "while(i<=n):\n",
        "  print(\"\\n i=\",i)\n",
        "  i=i+1\n"
      ],
      "metadata": {
        "id": "2Vn34nj2Cnnh"
      },
      "execution_count": null,
      "outputs": []
    },
    {
      "cell_type": "code",
      "source": [
        "#Sum of natural numbers\n",
        "i=1\n",
        "sum=0\n",
        "n=int(input(\"enter the value of n\"))\n",
        "while(i<=n):\n",
        "  print(\"\\n i=\",i)\n",
        "  sum=sum+i\n",
        "  i=i+1\n",
        "print(\"Sum =\",sum)\n",
        "\n"
      ],
      "metadata": {
        "id": "LQT5r35nDAYO"
      },
      "execution_count": null,
      "outputs": []
    },
    {
      "cell_type": "markdown",
      "source": [
        "3"
      ],
      "metadata": {
        "id": "m4TVb4J-BTje"
      }
    },
    {
      "cell_type": "code",
      "source": [
        "#for loop\n",
        "n=int(input(\"Enter the value of n\",))\n",
        "for i in range(10):\n",
        "  print(i)\n"
      ],
      "metadata": {
        "id": "atd9Ar1GDRik"
      },
      "execution_count": null,
      "outputs": []
    },
    {
      "cell_type": "code",
      "source": [
        "# Different types of Lists\n",
        "intlist = [1, 2, 3, 5]\n",
        "floatlist = [1.5, 2, 4, 3.5, 6.7]\n",
        "charlist = ['a', 'b', 'c', 'd']\n",
        "stringlist = [\"Apple\", \"Boy\", \"Cat\", \"Elephant\"]\n",
        "\n",
        "print(\"Integer list:\", intlist)\n",
        "print(\"Float list:\", floatlist)\n",
        "print(\"Character list:\", charlist)\n",
        "print(\"String list:\", stringlist)\n"
      ],
      "metadata": {
        "id": "_r4Kz9rJDhlO",
        "colab": {
          "base_uri": "https://localhost:8080/"
        },
        "outputId": "b02e55e3-f517-4e39-df62-912a667ce726"
      },
      "execution_count": 7,
      "outputs": [
        {
          "output_type": "stream",
          "name": "stdout",
          "text": [
            "Integer list: [1, 2, 3, 5]\n",
            "Float list: [1.5, 2, 4, 3.5, 6.7]\n",
            "Character list: ['a', 'b', 'c', 'd']\n",
            "String list: ['Apple', 'Boy', 'Cat', 'Elephant']\n"
          ]
        }
      ]
    },
    {
      "cell_type": "code",
      "source": [
        "#list Methods\n",
        "#Lists extend, append, insert, remove, push, pop, count, min max, join, reverse, copy\n",
        "intlist.append(20)\n",
        "print(\"Int list after append\",intlist)\n",
        "intlist.extend([25,34])\n",
        "print(\"Int list after extend\",intlist)\n",
        "intlist.insert(2,15)\n",
        "print(\"Int list afer insert\",intlist)\n",
        "intlist.remove(15)\n",
        "print(\"Int list after remove\",intlist)\n",
        "floatlist.append(20.5)\n",
        "print(\"float list after push\",floatlist)\n",
        "floatlist.pop()\n",
        "print(\"floatlist after pop\",floatlist)\n",
        "intcount=intlist.count(2)\n",
        "print(\"intlist after count\",intcount)\n",
        "intmax=max(intlist)\n",
        "print(\"Int list max\",intmax)\n",
        "intmin=min(intlist)\n",
        "print(\"Int list max\",intmin)\n",
        "joined1 = \",\".join(stringlist)\n",
        "print(\"after string list joined\",joined1)\n",
        "intlist=[1,23,2,4,50,20]\n",
        "intlist.sort()\n",
        "print(\"List after sort int\",intlist)\n",
        "#Slicing  in lists\n",
        "print(\"list to operarte  slice\",intlist)\n",
        "print(\"Slice 0 to 2 \",intlist[0:3])\n",
        "print(\"Slice 0 to last\",intlist[0:-1])\n",
        "\n",
        "\n",
        "\n",
        "\n",
        "\n"
      ],
      "metadata": {
        "colab": {
          "base_uri": "https://localhost:8080/"
        },
        "id": "ue5fWQZsByc0",
        "outputId": "15a59dae-65b7-4765-dbad-3d929dc49bb1"
      },
      "execution_count": 34,
      "outputs": [
        {
          "output_type": "stream",
          "name": "stdout",
          "text": [
            "Int list after append [1, 2, 4, 20, 23, 50, 20]\n",
            "Int list after extend [1, 2, 4, 20, 23, 50, 20, 25, 34]\n",
            "Int list afer insert [1, 2, 15, 4, 20, 23, 50, 20, 25, 34]\n",
            "Int list after remove [1, 2, 4, 20, 23, 50, 20, 25, 34]\n",
            "float list after push [1.5, 2, 4, 3.5, 6.7, 20.5]\n",
            "floatlist after pop [1.5, 2, 4, 3.5, 6.7]\n",
            "intlist after count 1\n",
            "Int list max 50\n",
            "Int list max 1\n",
            "after string list joined Apple,Boy,Cat,Elephant\n",
            "List after sort int [1, 2, 4, 20, 23, 50]\n",
            "list to operarte  slice [1, 2, 4, 20, 23, 50]\n",
            "Slice 0 to 2  [1, 2, 4]\n",
            "Slice 0 to last [1, 2, 4, 20, 23]\n"
          ]
        }
      ]
    },
    {
      "cell_type": "code",
      "source": [
        "#Tuples and functions\n",
        " # Creating tuples\n",
        "t1 = (10, 20, 30, 40, 50)\n",
        "t2 = (60, 70, 80)\n",
        "t3 = (\"Apple\", \"Banana\", \"Cherry\")\n",
        "# Printing tuples\n",
        "print(\"Tuple t1:\", t1)\n",
        "print(\"Tuple t2:\", t2)\n",
        "print(\"Tuple t3:\", t3)\n",
        "# Accessing elements\n",
        "print(\"First element of t1:\", t1[0])\n",
        "print(\"Last element of t1:\", t1[-1])\n",
        "# Slicing\n",
        "print(\"Slice t1[1:4]:\", t1[1:4])\n",
        "# Concatenation\n",
        "t4 = t1 + t2\n",
        "print(\"Concatenated tuple t4:\", t4)\n",
        "# Repetition\n",
        "t5 = t3 * 2\n",
        "print(\"Repeated tuple t5:\", t5)\n",
        "\n",
        "# Finding length\n",
        "print(\"Length of t1:\", len(t1))\n",
        "# Counting occurrences\n",
        "print(\"Count of 20 in t1:\", t1.count(20))\n",
        "# Finding index of an element\n",
        "print(\"Index of 30 in t1:\", t1.index(30))\n"
      ],
      "metadata": {
        "colab": {
          "base_uri": "https://localhost:8080/"
        },
        "id": "tTv6Zn6ACVzx",
        "outputId": "ee4bc4e2-d5ca-4825-8f9c-8c8ed9582e00"
      },
      "execution_count": 35,
      "outputs": [
        {
          "output_type": "stream",
          "name": "stdout",
          "text": [
            "Tuple t1: (10, 20, 30, 40, 50)\n",
            "Tuple t2: (60, 70, 80)\n",
            "Tuple t3: ('Apple', 'Banana', 'Cherry')\n",
            "First element of t1: 10\n",
            "Last element of t1: 50\n",
            "Slice t1[1:4]: (20, 30, 40)\n",
            "Concatenated tuple t4: (10, 20, 30, 40, 50, 60, 70, 80)\n",
            "Repeated tuple t5: ('Apple', 'Banana', 'Cherry', 'Apple', 'Banana', 'Cherry')\n",
            "Length of t1: 5\n",
            "Count of 20 in t1: 1\n",
            "Index of 30 in t1: 2\n"
          ]
        }
      ]
    },
    {
      "cell_type": "code",
      "source": [
        "#Dictionaries\n",
        "# Create a dictionary\n",
        "student = {\n",
        "    \"name\": \"John\",\n",
        "    \"age\": 17,\n",
        "    \"grade\": \"11th\"\n",
        "}\n",
        "\n",
        "# Print the whole dictionary\n",
        "print(\"Student Dictionary:\", student)\n",
        "\n",
        "# Access individual values\n",
        "print(\"Name:\", student[\"name\"])\n",
        "print(\"Age:\", student[\"age\"])\n",
        "\n",
        "# Add a new key-value pair\n",
        "student[\"school\"] = \"ABC Junior College\"\n",
        "print(\"After adding school:\", student)\n",
        "\n",
        "# Update a value\n",
        "student[\"age\"] = 18\n",
        "print(\"After updating age:\", student)\n",
        "\n",
        "# Remove a key-value pair\n",
        "del student[\"grade\"]\n",
        "print(\"After removing grade:\", student)\n",
        "\n",
        "# Check if a key exists\n",
        "if \"name\" in student:\n",
        "    print(\"Name is present in dictionary\")\n",
        "\n",
        "# Get all keys and values\n",
        "print(\"Keys:\", student.keys())\n",
        "print(\"Values:\", student.values())\n",
        "print(\"Student details after all operations\",student)"
      ],
      "metadata": {
        "colab": {
          "base_uri": "https://localhost:8080/"
        },
        "id": "nnPbJpiOP3S2",
        "outputId": "b424fa50-f27e-4cb1-a63f-c6992f71e5ac"
      },
      "execution_count": 36,
      "outputs": [
        {
          "output_type": "stream",
          "name": "stdout",
          "text": [
            "Student Dictionary: {'name': 'John', 'age': 17, 'grade': '11th'}\n",
            "Name: John\n",
            "Age: 17\n",
            "After adding school: {'name': 'John', 'age': 17, 'grade': '11th', 'school': 'ABC Junior College'}\n",
            "After updating age: {'name': 'John', 'age': 18, 'grade': '11th', 'school': 'ABC Junior College'}\n",
            "After removing grade: {'name': 'John', 'age': 18, 'school': 'ABC Junior College'}\n",
            "Name is present in dictionary\n",
            "Keys: dict_keys(['name', 'age', 'school'])\n",
            "Values: dict_values(['John', 18, 'ABC Junior College'])\n",
            "Student details after all operations {'name': 'John', 'age': 18, 'school': 'ABC Junior College'}\n"
          ]
        }
      ]
    },
    {
      "cell_type": "code",
      "source": [
        "#set operations\n",
        "# Create two sets with integers\n",
        "set1 = {1, 2, 3, 4, 5}\n",
        "set2 = {4, 5, 6, 7, 8}\n",
        "\n",
        "# Print original sets\n",
        "print(\"Set 1:\", set1)\n",
        "print(\"Set 2:\", set2)\n",
        "\n",
        "# Add an element\n",
        "set1.add(10)\n",
        "print(\"After adding 10 to Set 1:\", set1)\n",
        "\n",
        "# Remove an element\n",
        "set2.remove(8)\n",
        "print(\"After removing 8 from Set 2:\", set2)\n",
        "\n",
        "# Union (all unique elements)\n",
        "unionset = set1.union(set2)\n",
        "print(\"Union:\", unionset)\n",
        "\n",
        "# Intersection (common elements)\n",
        "intersectionset = set1.intersection(set2)\n",
        "print(\"Intersection:\", intersectionset)\n",
        "\n",
        "# Difference (elements in set1 but not in set2)\n",
        "difference_set = set1.difference(set2)\n",
        "print(\"Difference (Set1 - Set2):\", difference_set)\n",
        "\n",
        "# Check if a number exists\n",
        "print(\"Is 3 in Set 1?\", 3 in set1)\n",
        "\n",
        "# Length of a set\n",
        "print(\"Length of Set 2:\", len(set2))\n"
      ],
      "metadata": {
        "colab": {
          "base_uri": "https://localhost:8080/"
        },
        "id": "UWQa0TCUQXKl",
        "outputId": "9d9535fc-58b1-4ccd-a3a4-6f892a38fd3f"
      },
      "execution_count": 38,
      "outputs": [
        {
          "output_type": "stream",
          "name": "stdout",
          "text": [
            "Set 1: {1, 2, 3, 4, 5}\n",
            "Set 2: {4, 5, 6, 7, 8}\n",
            "After adding 10 to Set 1: {1, 2, 3, 4, 5, 10}\n",
            "After removing 8 from Set 2: {4, 5, 6, 7}\n",
            "Union: {1, 2, 3, 4, 5, 6, 7, 10}\n",
            "Intersection: {4, 5}\n",
            "Difference (Set1 - Set2): {10, 1, 2, 3}\n",
            "Is 3 in Set 1? True\n",
            "Length of Set 2: 4\n"
          ]
        }
      ]
    },
    {
      "cell_type": "code",
      "source": [
        "#functions with out parameters\n",
        "def add_numbers(a, b):\n",
        "    c = a + b\n",
        "    return c\n",
        "a=int(input(\"enter the value of a\"))\n",
        "b=int(input(\"enter the value of b\"))\n",
        "c=add_numbers(a,b)\n",
        "print(\"C=\",c)\n",
        "\n"
      ],
      "metadata": {
        "colab": {
          "base_uri": "https://localhost:8080/"
        },
        "id": "oI4UhcZwUAHM",
        "outputId": "0324711e-a3a9-4257-a83b-d1ddfcf79e7b"
      },
      "execution_count": 40,
      "outputs": [
        {
          "output_type": "stream",
          "name": "stdout",
          "text": [
            "enter the value of a20\n",
            "enter the value of b30\n",
            "C= 50\n"
          ]
        }
      ]
    },
    {
      "cell_type": "code",
      "source": [
        "2"
      ],
      "metadata": {
        "id": "cgTFPdgDVnVZ"
      },
      "execution_count": null,
      "outputs": []
    }
  ]
}